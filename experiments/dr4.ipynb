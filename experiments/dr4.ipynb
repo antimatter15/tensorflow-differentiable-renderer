{
 "cells": [
  {
   "cell_type": "code",
   "execution_count": 1,
   "metadata": {},
   "outputs": [],
   "source": [
    "%matplotlib inline\n",
    "\n",
    "import tensorflow as tf\n",
    "import numpy as np\n",
    "import matplotlib.pyplot as plt\n",
    "import scipy\n",
    "\n",
    "from src import inception_v3_imagenet\n",
    "from src import imagenet_labels\n",
    "from src import utils\n",
    "from src.diff_renderer import make_render_op\n",
    "from src.utils import angles_to_matrix"
   ]
  },
  {
   "cell_type": "code",
   "execution_count": 2,
   "metadata": {},
   "outputs": [],
   "source": [
    "width, height = 1000, 1000\n",
    "mesh = utils.load_obj('resources/dog.obj')\n",
    "original_texture = mesh.texture_image.copy()\n",
    "render_op = make_render_op(mesh, width, height)"
   ]
  },
  {
   "cell_type": "code",
   "execution_count": 3,
   "metadata": {},
   "outputs": [],
   "source": [
    "trans = [0, 0, 2.6]\n",
    "rotation = [0.4, np.pi+.7, 2.9]\n",
    "fscale = 0.4\n",
    "bgcolor = [0.9, 0.9, 0.9]\n",
    "texture_image = mesh.texture_image"
   ]
  },
  {
   "cell_type": "code",
   "execution_count": 4,
   "metadata": {},
   "outputs": [
    {
     "data": {
      "text/plain": [
       "array([[ 0.74262977,  0.02322123,  0.66929949,  0.        ],\n",
       "       [-0.18298798, -0.95433222,  0.23614703,  0.        ],\n",
       "       [ 0.64421769, -0.29784358, -0.70446631,  2.6       ],\n",
       "       [ 0.        ,  0.        ,  0.        ,  1.        ]])"
      ]
     },
     "execution_count": 4,
     "metadata": {},
     "output_type": "execute_result"
    }
   ],
   "source": [
    "view_matrix = np.vstack((np.hstack((angles_to_matrix(rotation) , np.reshape(trans, (3, 1)) )) , np.array([0, 0, 0, 1])))\n",
    "view_matrix"
   ]
  },
  {
   "cell_type": "code",
   "execution_count": 5,
   "metadata": {},
   "outputs": [],
   "source": [
    "pixel_center_offset = 0.5\n",
    "near = 0.1\n",
    "far = 100.\n",
    "\n",
    "fmat = [float(width) / float(fscale), float(width) / float(fscale)]\n",
    "f = 0.5 * (fmat[0] + fmat[1])\n",
    "\n",
    "center = [width/2.,height/2.]\n",
    "\n",
    "right  =  (width-(center[0]+pixel_center_offset)) * (near/f)\n",
    "left   =           -(center[0]+pixel_center_offset)  * (near/f)\n",
    "top    = -(height-(center[1]+pixel_center_offset)) * (near/f)\n",
    "bottom =            (center[1]+pixel_center_offset)  * (near/f)\n",
    "\n",
    "\n",
    "A = (right + left) / (right - left)\n",
    "B = (top + bottom) / (top - bottom)\n",
    "C = (far + near) / (far - near)\n",
    "D = (2 * far * near) / (far - near)\n",
    "\n",
    "camera_matrix = np.array([\n",
    "    [2 * near / (right - left), 0, A, 0],\n",
    "    [0, 2 * near / (top - bottom), B, 0],\n",
    "    [0, 0, C, D],\n",
    "    [0, 0, -1, 0]\n",
    "])"
   ]
  },
  {
   "cell_type": "code",
   "execution_count": 6,
   "metadata": {},
   "outputs": [],
   "source": [
    "proj_matrix = camera_matrix.dot(view_matrix)"
   ]
  },
  {
   "cell_type": "code",
   "execution_count": 7,
   "metadata": {},
   "outputs": [
    {
     "data": {
      "text/plain": [
       "array([[ 0.04729923, -0.02962504, -0.28196972,  1.        ],\n",
       "       [ 0.03527478,  0.01396127, -0.29956182,  1.        ],\n",
       "       [ 0.06153678,  0.01350783, -0.29312388,  1.        ],\n",
       "       ..., \n",
       "       [ 0.04403177,  0.2615302 ,  0.38719011,  1.        ],\n",
       "       [ 0.03651725,  0.24862289,  0.39145738,  1.        ],\n",
       "       [ 0.03867221,  0.26496691,  0.38782987,  1.        ]])"
      ]
     },
     "execution_count": 7,
     "metadata": {},
     "output_type": "execute_result"
    }
   ],
   "source": [
    "homo_v = np.hstack((mesh.v, np.ones((mesh.v.shape[0], 1) )))\n",
    "homo_v"
   ]
  },
  {
   "cell_type": "code",
   "execution_count": 8,
   "metadata": {},
   "outputs": [
    {
     "data": {
      "text/plain": [
       "array([[ 0.27282516, -0.0817528 , -1.07254638,  1.        ],\n",
       "       [ 0.3084223 , -0.15895063, -1.07275418,  1.        ],\n",
       "       [ 0.2651957 , -0.16326456, -1.07244255,  1.        ],\n",
       "       ..., \n",
       "       [-0.65298731, -0.36386272, -1.08989744,  1.        ],\n",
       "       [-0.64748836, -0.33217757, -1.09005218,  1.        ],\n",
       "       [-0.64676643, -0.36937906, -1.09008799,  1.        ]])"
      ]
     },
     "execution_count": 8,
     "metadata": {},
     "output_type": "execute_result"
    }
   ],
   "source": [
    "abnormal = proj_matrix.dot(homo_v.reshape((-1, 4, 1)))[:, :, 0]\n",
    "XY = (abnormal[:,:] / abnormal[3,:]).T\n",
    "XY"
   ]
  },
  {
   "cell_type": "code",
   "execution_count": 9,
   "metadata": {},
   "outputs": [
    {
     "data": {
      "text/plain": [
       "(1, -1)"
      ]
     },
     "execution_count": 9,
     "metadata": {},
     "output_type": "execute_result"
    },
    {
     "data": {
      "image/png": "[encoded data removed]",
      "text/plain": [
       "<matplotlib.figure.Figure at 0x11c14da50>"
      ]
     },
     "metadata": {},
     "output_type": "display_data"
    }
   ],
   "source": [
    "\n",
    "# plt.set_autoscale_on(False)\n",
    "plt.figure(figsize=(5,5))\n",
    "plt.scatter(XY[:,0], XY[:, 1], c = XY[:, 2], s=3)\n",
    "# plt.axes().set_aspect('equal', 'datalim')\n",
    "\n",
    "plt.xlim([1, -1])\n",
    "plt.ylim([1, -1])\n",
    "\n"
   ]
  },
  {
   "cell_type": "code",
   "execution_count": 10,
   "metadata": {},
   "outputs": [
    {
     "data": {
      "text/plain": [
       "(2652, 3)"
      ]
     },
     "execution_count": 10,
     "metadata": {},
     "output_type": "execute_result"
    }
   ],
   "source": [
    "mesh.f.shape"
   ]
  },
  {
   "cell_type": "code",
   "execution_count": 11,
   "metadata": {},
   "outputs": [],
   "source": [
    "Z = XY[:,2]\n",
    "\n",
    "face_depth = np.mean(np.take(Z, mesh.f.flatten()).reshape((-1, 3)), axis=1)"
   ]
  },
  {
   "cell_type": "code",
   "execution_count": 12,
   "metadata": {},
   "outputs": [
    {
     "data": {
      "text/plain": [
       "array([-1.07258104, -1.07237991, -1.07285156, ..., -1.09000121,\n",
       "       -1.09020616, -1.09011096])"
      ]
     },
     "execution_count": 12,
     "metadata": {},
     "output_type": "execute_result"
    }
   ],
   "source": [
    "face_depth"
   ]
  },
  {
   "cell_type": "code",
   "execution_count": 13,
   "metadata": {},
   "outputs": [
    {
     "data": {
      "text/plain": [
       "array([ 0.27282516, -0.0817528 , -1.07254638,  1.        ])"
      ]
     },
     "execution_count": 13,
     "metadata": {},
     "output_type": "execute_result"
    }
   ],
   "source": [
    "XY[0,:]"
   ]
  },
  {
   "cell_type": "code",
   "execution_count": 14,
   "metadata": {},
   "outputs": [
    {
     "data": {
      "text/plain": [
       "array([[ 0.27282516, -0.0817528 ],\n",
       "       [ 0.3084223 , -0.15895063],\n",
       "       [ 0.2651957 , -0.16326456]])"
      ]
     },
     "execution_count": 14,
     "metadata": {},
     "output_type": "execute_result"
    }
   ],
   "source": [
    "T = np.take(XY[:,0:2], mesh.f[0], axis=0)\n",
    "T"
   ]
  },
  {
   "cell_type": "code",
   "execution_count": 15,
   "metadata": {},
   "outputs": [
    {
     "data": {
      "text/plain": [
       "(2652, 3, 2)"
      ]
     },
     "execution_count": 15,
     "metadata": {},
     "output_type": "execute_result"
    }
   ],
   "source": [
    "np.take(XY[:,0:2], mesh.f, axis=0).shape"
   ]
  },
  {
   "cell_type": "code",
   "execution_count": 16,
   "metadata": {},
   "outputs": [
    {
     "data": {
      "text/plain": [
       "-0.13465599682771923"
      ]
     },
     "execution_count": 16,
     "metadata": {},
     "output_type": "execute_result"
    }
   ],
   "source": [
    "np.mean(T[:,1])"
   ]
  },
  {
   "cell_type": "code",
   "execution_count": 17,
   "metadata": {},
   "outputs": [
    {
     "data": {
      "text/plain": [
       "True"
      ]
     },
     "execution_count": 17,
     "metadata": {},
     "output_type": "execute_result"
    }
   ],
   "source": [
    "px = 0.28214771774793101\n",
    "py = -0.13465599682771923\n",
    "\n",
    "# T = np.array([[ 0.27282516, -0.0817528 ],\n",
    "#        [ 0.3084223 , -0.15895063],\n",
    "#        [ 0.2651957 , -0.16326456]])\n",
    "T = np.array([[ 0.27282516, -0.0817528 ],\n",
    "[ 0.2651957 , -0.16326456],\n",
    "[ 0.3084223 , -0.15895063]])\n",
    "\n",
    "s = (T[0,1] * T[2,0] - T[0,0] * T[2,1] + (T[2,1] - T[0,1]) * px + (T[0,0] - T[2,0]) * py)\n",
    "t = (T[0,0] * T[1,1] - T[0,1] * T[1,0] + (T[0,1] - T[1,1]) * px + (T[1,0] - T[0,0]) * py)\n",
    "\n",
    "# this can be a precomputed quantity eh?\n",
    "A = (-T[1,1] * T[2,0] + T[0,1] * (-T[1,0] + T[2,0]) + T[0,0] * (T[1,1] - T[2,1]) + T[1,0] * T[2,1])\n",
    "\n",
    "s > 0 and t > 0 and (s + t) < A"
   ]
  },
  {
   "cell_type": "code",
   "execution_count": 18,
   "metadata": {},
   "outputs": [
    {
     "data": {
      "text/plain": [
       "array([-0.0817528 , -0.07638054, -0.13980366, ..., -0.36937906,\n",
       "       -0.34340723, -0.34340723])"
      ]
     },
     "execution_count": 18,
     "metadata": {},
     "output_type": "execute_result"
    }
   ],
   "source": [
    "T = np.take(XY[:,0:2], mesh.f, axis=0)\n",
    "\n",
    "T[:,0,1]"
   ]
  },
  {
   "cell_type": "code",
   "execution_count": 19,
   "metadata": {},
   "outputs": [
    {
     "data": {
      "text/plain": [
       "(array([940]),)"
      ]
     },
     "execution_count": 19,
     "metadata": {},
     "output_type": "execute_result"
    }
   ],
   "source": [
    "px = 0.28214771774793101\n",
    "py = -0.13465599682771923\n",
    "\n",
    "T = np.take(XY[:,0:2], mesh.f, axis=0)\n",
    "\n",
    "s = T[:,0,1] * T[:,2,0] - T[:,0,0] * T[:,2,1] + (T[:,2,1] - T[:,0,1]) * px + (T[:,0,0] - T[:,2,0]) * py\n",
    "t = T[:,0,0] * T[:,1,1] - T[:,0,1] * T[:,1,0] + (T[:,0,1] - T[:,1,1]) * px + (T[:,1,0] - T[:,0,0]) * py\n",
    "\n",
    "# this can be a precomputed quantity eh?\n",
    "A = (-T[:,1,1] * T[:,2,0] + T[:,0,1] * (-T[:,1,0] + T[:,2,0]) + T[:,0,0] * (T[:,1,1] - T[:,2,1]) + T[:,1,0] * T[:,2,1])\n",
    "\n",
    "# s > 0 and t > 0 and (s + t) < A\n",
    "\n",
    "np.where(np.logical_and(np.logical_and(s > 0, t > 0), s + t < A))"
   ]
  },
  {
   "cell_type": "code",
   "execution_count": 20,
   "metadata": {},
   "outputs": [
    {
     "data": {
      "text/plain": [
       "(array([940]),)"
      ]
     },
     "execution_count": 20,
     "metadata": {},
     "output_type": "execute_result"
    }
   ],
   "source": [
    "px = 0.28214771774793101\n",
    "py = -0.13465599682771923\n",
    "\n",
    "T = np.take(XY[:,0:2], mesh.f, axis=0)\n",
    "\n",
    "s = (T[:,2,1] - T[:,0,1]) * px + (T[:,0,0] - T[:,2,0]) * py\n",
    "t = (T[:,0,1] - T[:,1,1]) * px + (T[:,1,0] - T[:,0,0]) * py\n",
    "\n",
    "# this can be a precomputed quantity eh?\n",
    "A = -T[:,1,1] * T[:,2,0] + T[:,0,1] * (-T[:,1,0] + T[:,2,0]) + T[:,0,0] * (T[:,1,1] - T[:,2,1]) + T[:,1,0] * T[:,2,1] -(T[:,0,1] * T[:,2,0] - T[:,0,0] * T[:,2,1]) -(T[:,0,0] * T[:,1,1] - T[:,0,1] * T[:,1,0])\n",
    "\n",
    "# s > 0 and t > 0 and (s + t) < A\n",
    "\n",
    "np.where(np.logical_and(np.logical_and(s > -(T[:,0,1] * T[:,2,0] - T[:,0,0] * T[:,2,1]), t > -(T[:,0,0] * T[:,1,1] - T[:,0,1] * T[:,1,0])), s + t < A))"
   ]
  },
  {
   "cell_type": "code",
   "execution_count": 21,
   "metadata": {},
   "outputs": [
    {
     "data": {
      "text/plain": [
       "[0.282147717747931, -0.13465599682771923]"
      ]
     },
     "execution_count": 21,
     "metadata": {},
     "output_type": "execute_result"
    }
   ],
   "source": [
    "# x, y -> all(A,B,C > 0) if on pixel\n",
    "\n",
    "[px, py]"
   ]
  },
  {
   "cell_type": "code",
   "execution_count": 22,
   "metadata": {},
   "outputs": [
    {
     "data": {
      "text/plain": [
       "array([-0.01815134,  0.00078392, -0.0123737 , ..., -0.0094715 ,\n",
       "       -0.00098263, -0.00308003])"
      ]
     },
     "execution_count": 22,
     "metadata": {},
     "output_type": "execute_result"
    }
   ],
   "source": [
    "T[:,2,1] - T[:,0,1]\n",
    "T[:,0,0] - T[:,2,0]\n",
    "\n",
    "T[:,0,1] * T[:,2,0] - T[:,0,0] * T[:,2,1]\n",
    "T[:,0,0] * T[:,1,1] - T[:,0,1] * T[:,1,0]"
   ]
  },
  {
   "cell_type": "code",
   "execution_count": 23,
   "metadata": {},
   "outputs": [
    {
     "data": {
      "text/plain": [
       "array([[ 0.08151176,  0.08134857,  0.08118539, ..., -0.08118539,\n",
       "        -0.08134857, -0.08151176],\n",
       "       [ 0.08688402,  0.08671007,  0.08653613, ..., -0.08653613,\n",
       "        -0.08671007, -0.08688402],\n",
       "       [-0.05805086, -0.05793464, -0.05781843, ...,  0.05781843,\n",
       "         0.05793464,  0.05805086],\n",
       "       ..., \n",
       "       [-0.00551635, -0.0055053 , -0.00549426, ...,  0.00549426,\n",
       "         0.0055053 ,  0.00551635],\n",
       "       [-0.01081794, -0.01079628, -0.01077463, ...,  0.01077463,\n",
       "         0.01079628,  0.01081794],\n",
       "       [-0.00537447, -0.00536371, -0.00535295, ...,  0.00535295,\n",
       "         0.00536371,  0.00537447]])"
      ]
     },
     "execution_count": 23,
     "metadata": {},
     "output_type": "execute_result"
    }
   ],
   "source": [
    "# np.linspace(-1., 1., 100)\n",
    "\n",
    "\n",
    "\n",
    "np.expand_dims(T[:,2,1] - T[:,0,1], 1).dot(np.expand_dims(np.linspace(-1., 1., 1000), 0))"
   ]
  },
  {
   "cell_type": "code",
   "execution_count": null,
   "metadata": {},
   "outputs": [],
   "source": []
  },
  {
   "cell_type": "code",
   "execution_count": 24,
   "metadata": {},
   "outputs": [
    {
     "data": {
      "text/plain": [
       "2652"
      ]
     },
     "execution_count": 24,
     "metadata": {},
     "output_type": "execute_result"
    }
   ],
   "source": [
    "len(mesh.f)"
   ]
  },
  {
   "cell_type": "code",
   "execution_count": 25,
   "metadata": {},
   "outputs": [
    {
     "data": {
      "text/plain": [
       "<matplotlib.collections.PathCollection at 0x12028b2d0>"
      ]
     },
     "execution_count": 25,
     "metadata": {},
     "output_type": "execute_result"
    },
    {
     "data": {
      "image/png": "[encoded data removed]",
      "text/plain": [
       "<matplotlib.figure.Figure at 0x11c175710>"
      ]
     },
     "metadata": {},
     "output_type": "display_data"
    }
   ],
   "source": [
    "plt.scatter(mesh.vt[:,0], mesh.vt[:,1])"
   ]
  },
  {
   "cell_type": "code",
   "execution_count": 26,
   "metadata": {},
   "outputs": [],
   "source": [
    "import matplotlib.cm as cm"
   ]
  },
  {
   "cell_type": "code",
   "execution_count": null,
   "metadata": {},
   "outputs": [],
   "source": [
    "blank_canvas = 1000x1000\n",
    "for i in triangles:\n",
    "    blank_canvas = blank_canvas + add_triangle"
   ]
  },
  {
   "cell_type": "code",
   "execution_count": null,
   "metadata": {},
   "outputs": [],
   "source": [
    "blank_canvas = 1000x1000\n",
    "canvas = map(blank_canvas, max(z for each triangle intersecting x,y))"
   ]
  },
  {
   "cell_type": "code",
   "execution_count": 27,
   "metadata": {},
   "outputs": [
    {
     "data": {
      "image/png": "[encoded data removed]",
      "text/plain": [
       "<matplotlib.figure.Figure at 0x11c19f2d0>"
      ]
     },
     "metadata": {},
     "output_type": "display_data"
    }
   ],
   "source": [
    "plt.figure(figsize=(5,5))\n",
    "\n",
    "for i in range(len(mesh.f)):\n",
    "    tri = np.take(XY[:,0:2], mesh.f[i], axis=0)\n",
    "    circle = plt.Polygon(tri, fc=cm.hot( (1.1 + face_depth[i]) * 20))\n",
    "    plt.gca().add_patch(circle)\n",
    "\n",
    "plt.xlim([1, -1])\n",
    "plt.ylim([1, -1])\n",
    "\n",
    "plt.show()"
   ]
  },
  {
   "cell_type": "code",
   "execution_count": 28,
   "metadata": {},
   "outputs": [
    {
     "data": {
      "text/plain": [
       "array([[[ 0.      ,  0.001001,  0.002002, ...,  0.997998,  0.998999,  1.      ],\n",
       "        [ 0.      ,  0.001001,  0.002002, ...,  0.997998,  0.998999,  1.      ],\n",
       "        [ 0.      ,  0.001001,  0.002002, ...,  0.997998,  0.998999,  1.      ],\n",
       "        ..., \n",
       "        [ 0.      ,  0.001001,  0.002002, ...,  0.997998,  0.998999,  1.      ],\n",
       "        [ 0.      ,  0.001001,  0.002002, ...,  0.997998,  0.998999,  1.      ],\n",
       "        [ 0.      ,  0.001001,  0.002002, ...,  0.997998,  0.998999,  1.      ]],\n",
       "\n",
       "       [[ 0.      ,  0.      ,  0.      , ...,  0.      ,  0.      ,  0.      ],\n",
       "        [ 0.001001,  0.001001,  0.001001, ...,  0.001001,  0.001001,\n",
       "          0.001001],\n",
       "        [ 0.002002,  0.002002,  0.002002, ...,  0.002002,  0.002002,\n",
       "          0.002002],\n",
       "        ..., \n",
       "        [ 0.997998,  0.997998,  0.997998, ...,  0.997998,  0.997998,\n",
       "          0.997998],\n",
       "        [ 0.998999,  0.998999,  0.998999, ...,  0.998999,  0.998999,\n",
       "          0.998999],\n",
       "        [ 1.      ,  1.      ,  1.      , ...,  1.      ,  1.      ,  1.      ]]])"
      ]
     },
     "execution_count": 28,
     "metadata": {},
     "output_type": "execute_result"
    }
   ],
   "source": [
    "np.array(np.meshgrid(np.linspace(0, 1, 1000), np.linspace(0, 1, 1000)))"
   ]
  },
  {
   "cell_type": "code",
   "execution_count": null,
   "metadata": {},
   "outputs": [],
   "source": []
  }
 ],
 "metadata": {
  "kernelspec": {
   "display_name": "Python 2",
   "language": "python",
   "name": "python2"
  },
  "language_info": {
   "codemirror_mode": {
    "name": "ipython",
    "version": 2
   },
   "file_extension": ".py",
   "mimetype": "text/x-python",
   "name": "python",
   "nbconvert_exporter": "python",
   "pygments_lexer": "ipython2",
   "version": "2.7.14"
  }
 },
 "nbformat": 4,
 "nbformat_minor": 2
}
