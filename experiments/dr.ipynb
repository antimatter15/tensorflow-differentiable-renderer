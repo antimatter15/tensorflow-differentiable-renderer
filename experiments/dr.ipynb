{
 "cells": [
  {
   "cell_type": "code",
   "execution_count": 1,
   "metadata": {},
   "outputs": [],
   "source": [
    "import tensorflow as tf\n",
    "import numpy as np\n",
    "import matplotlib.pyplot as plt\n",
    "import scipy\n",
    "\n",
    "from src import inception_v3_imagenet\n",
    "from src import imagenet_labels\n",
    "from src import utils\n",
    "from src.diff_renderer import make_render_op"
   ]
  },
  {
   "cell_type": "code",
   "execution_count": 2,
   "metadata": {},
   "outputs": [],
   "source": [
    "%matplotlib inline"
   ]
  },
  {
   "cell_type": "code",
   "execution_count": 3,
   "metadata": {},
   "outputs": [],
   "source": [
    "w, h = 1000, 1000"
   ]
  },
  {
   "cell_type": "code",
   "execution_count": 4,
   "metadata": {},
   "outputs": [],
   "source": [
    "mesh = utils.load_obj('resources/dog.obj')\n",
    "original_texture = mesh.texture_image.copy()\n",
    "render_op = make_render_op(mesh, w, h)"
   ]
  },
  {
   "cell_type": "code",
   "execution_count": 6,
   "metadata": {},
   "outputs": [
    {
     "data": {
      "text/plain": [
       "['__class__',\n",
       " '__delattr__',\n",
       " '__dict__',\n",
       " '__doc__',\n",
       " '__format__',\n",
       " '__getattribute__',\n",
       " '__hash__',\n",
       " '__init__',\n",
       " '__module__',\n",
       " '__new__',\n",
       " '__reduce__',\n",
       " '__reduce_ex__',\n",
       " '__repr__',\n",
       " '__setattr__',\n",
       " '__sizeof__',\n",
       " '__str__',\n",
       " '__subclasshook__',\n",
       " '__weakref__',\n",
       " 'f',\n",
       " 'ft',\n",
       " 'texture_filepath',\n",
       " 'texture_image',\n",
       " 'v',\n",
       " 'vc',\n",
       " 'vn',\n",
       " 'vt']"
      ]
     },
     "execution_count": 6,
     "metadata": {},
     "output_type": "execute_result"
    }
   ],
   "source": [
    "dir(mesh)"
   ]
  },
  {
   "cell_type": "code",
   "execution_count": 12,
   "metadata": {},
   "outputs": [
    {
     "data": {
      "text/plain": [
       "(1338, 3)"
      ]
     },
     "execution_count": 12,
     "metadata": {},
     "output_type": "execute_result"
    }
   ],
   "source": [
    "mesh.v.shape"
   ]
  },
  {
   "cell_type": "code",
   "execution_count": 10,
   "metadata": {},
   "outputs": [
    {
     "data": {
      "text/plain": [
       "(2652, 3)"
      ]
     },
     "execution_count": 10,
     "metadata": {},
     "output_type": "execute_result"
    }
   ],
   "source": [
    "mesh.f.shape"
   ]
  },
  {
   "cell_type": "code",
   "execution_count": 20,
   "metadata": {},
   "outputs": [],
   "source": [
    "\n",
    "import opendr\n",
    "from opendr.serialization import *\n",
    "from opendr.geometry import *\n",
    "from opendr.camera import *\n",
    "from opendr.lighting import *\n",
    "import numpy as np\n",
    "import cv2\n",
    "import chumpy as ch\n",
    "from chumpy.utils import row, col\n",
    "from opendr.renderer import *\n",
    "from src.utils import angles_to_matrix\n",
    "\n",
    "LIGHT_COMPONENTS = [10.0, 1.0, 1.0]\n"
   ]
  },
  {
   "cell_type": "code",
   "execution_count": 27,
   "metadata": {},
   "outputs": [],
   "source": [
    "trans = [0, 0, 2.6]\n",
    "rotation = [0.4, np.pi+.7, 2.9]\n",
    "fscale = 0.4\n",
    "bgcolor = [0.9, 0.9, 0.9]\n",
    "texture_image = mesh.texture_image\n",
    "\n",
    "width,height = 1000,1000\n",
    "\n",
    "# vertices\n",
    "V = ch.array(mesh.v)\n",
    "# lighting\n",
    "A = SphericalHarmonics(vn=VertNormals(v=V, f=mesh.f),\n",
    "                   components=LIGHT_COMPONENTS,\n",
    "                   light_color=ch.ones(3))\n",
    "\n",
    "# center of screen\n",
    "C = [width/2.,height/2.]\n",
    "\n",
    "# v = vertices\n",
    "# f = focal length, fx and fy should be the same\n",
    "# c = center of screen, should be [w/2, h/2]\n",
    "# t = translation\n",
    "# rt = rotation (in Rodrigues format)\n",
    "# k is for distortions\n",
    "fmat = [float(width) / float(fscale), float(width) / float(fscale)]\n",
    "rmat = cv2.Rodrigues(angles_to_matrix(rotation))[0].T[0]\n",
    "U = ProjectPoints(v=V, f=fmat, c=C, k=ch.zeros(5),\n",
    "              t=trans, rt=rmat)\n",
    "\n",
    "# clipping planes, > 0\n",
    "frustum = {'width': width, 'height': height, 'near': 0.1, 'far': 100.0}\n",
    "\n",
    "f = TexturedRenderer(vc=A, camera=U, f=mesh.f, bgcolor=bgcolor,\n",
    "                     texture_image=texture_image, vt=mesh.vt, ft=mesh.ft,\n",
    "                     frustum=frustum)"
   ]
  },
  {
   "cell_type": "code",
   "execution_count": 31,
   "metadata": {},
   "outputs": [
    {
     "data": {
      "text/plain": [
       "<matplotlib.image.AxesImage at 0x12d8e1710>"
      ]
     },
     "execution_count": 31,
     "metadata": {},
     "output_type": "execute_result"
    },
    {
     "data": {
      "image/png": "[encoded data removed]",
      "text/plain": [
       "<matplotlib.figure.Figure at 0x12b6d6f50>"
      ]
     },
     "metadata": {},
     "output_type": "display_data"
    }
   ],
   "source": [
    "plt.imshow(f.r)"
   ]
  },
  {
   "cell_type": "code",
   "execution_count": 36,
   "metadata": {},
   "outputs": [
    {
     "data": {
      "text/plain": [
       "array([[  2.50000000e+03,   0.00000000e+00,   5.00000000e+02],\n",
       "       [  0.00000000e+00,   2.50000000e+03,   5.00000000e+02],\n",
       "       [  0.00000000e+00,   0.00000000e+00,   1.00000000e+00]])"
      ]
     },
     "execution_count": 36,
     "metadata": {},
     "output_type": "execute_result"
    }
   ],
   "source": [
    "U.camera_mtx"
   ]
  },
  {
   "cell_type": "code",
   "execution_count": 43,
   "metadata": {},
   "outputs": [
    {
     "data": {
      "text/plain": [
       "array([[ 0.74262977,  0.02322123,  0.66929949,  0.        ],\n",
       "       [-0.18298798, -0.95433222,  0.23614703,  0.        ],\n",
       "       [ 0.64421769, -0.29784358, -0.70446631,  2.6       ]])"
      ]
     },
     "execution_count": 43,
     "metadata": {},
     "output_type": "execute_result"
    }
   ],
   "source": [
    "U.view_mtx"
   ]
  },
  {
   "cell_type": "code",
   "execution_count": 46,
   "metadata": {},
   "outputs": [
    {
     "data": {
      "text/plain": [
       "array([ 0. ,  0. ,  2.6])"
      ]
     },
     "execution_count": 46,
     "metadata": {},
     "output_type": "execute_result"
    }
   ],
   "source": [
    "U.t.r"
   ]
  },
  {
   "cell_type": "code",
   "execution_count": 60,
   "metadata": {},
   "outputs": [
    {
     "data": {
      "text/plain": [
       "<opendr.camera.ProjectPoints object at 0x11ffd9750>\n",
       "[[ 364.08742211  458.6235996 ]\n",
       " [ 346.28885204  420.02468568]\n",
       " [ 367.90214923  417.86771948]\n",
       " ..., \n",
       " [ 826.9936563   317.56864249]\n",
       " [ 824.24418169  333.41121454]\n",
       " [ 823.88321715  314.8104699 ]]"
      ]
     },
     "execution_count": 60,
     "metadata": {},
     "output_type": "execute_result"
    }
   ],
   "source": [
    "U"
   ]
  },
  {
   "cell_type": "code",
   "execution_count": 64,
   "metadata": {},
   "outputs": [
    {
     "data": {
      "text/plain": [
       "<matplotlib.collections.PathCollection at 0x12db6eb50>"
      ]
     },
     "execution_count": 64,
     "metadata": {},
     "output_type": "execute_result"
    },
    {
     "data": {
      "image/png": "[encoded data removed]",
      "text/plain": [
       "<matplotlib.figure.Figure at 0x12d86f9d0>"
      ]
     },
     "metadata": {},
     "output_type": "display_data"
    }
   ],
   "source": [
    "plt.scatter(U.r[:,0],U.r[:,1])"
   ]
  },
  {
   "cell_type": "code",
   "execution_count": 63,
   "metadata": {},
   "outputs": [
    {
     "data": {
      "text/plain": [
       "(1338, 2)"
      ]
     },
     "execution_count": 63,
     "metadata": {},
     "output_type": "execute_result"
    }
   ],
   "source": [
    "U.r"
   ]
  },
  {
   "cell_type": "code",
   "execution_count": null,
   "metadata": {},
   "outputs": [],
   "source": [
    "\n",
    "# v = self.v.r.reshape((-1,3)).copy()\n",
    "# return cv2.projectPoints(v, self.rt.r, self.t.r, self.camera_mtx, self.k.r)"
   ]
  },
  {
   "cell_type": "code",
   "execution_count": 67,
   "metadata": {},
   "outputs": [
    {
     "data": {
      "text/plain": [
       "array([-2.65706739,  0.12480376, -1.02607004])"
      ]
     },
     "execution_count": 67,
     "metadata": {},
     "output_type": "execute_result"
    }
   ],
   "source": [
    "U.rt.r"
   ]
  },
  {
   "cell_type": "code",
   "execution_count": 121,
   "metadata": {},
   "outputs": [
    {
     "data": {
      "text/plain": [
       "array([ 364.08742211,  458.6235996 ,    1.        ])"
      ]
     },
     "execution_count": 121,
     "metadata": {},
     "output_type": "execute_result"
    }
   ],
   "source": [
    "# concat the rotation/rodriguez matrix  with the translation matrix\n",
    "# https://docs.opencv.org/2.4.13.4/modules/calib3d/doc/camera_calibration_and_3d_reconstruction.html\n",
    "\n",
    "abnormal = U.camera_mtx.dot(U.view_mtx).dot(np.hstack((mesh.v[0,:], 1)))\n",
    "abnormal / abnormal[2]"
   ]
  },
  {
   "cell_type": "code",
   "execution_count": 116,
   "metadata": {},
   "outputs": [
    {
     "data": {
      "text/plain": [
       "array([ 0.04729923, -0.02962504, -0.28196972,  1.        ])"
      ]
     },
     "execution_count": 116,
     "metadata": {},
     "output_type": "execute_result"
    }
   ],
   "source": [
    "np.hstack((mesh.v[0,:], 1))"
   ]
  },
  {
   "cell_type": "code",
   "execution_count": 101,
   "metadata": {},
   "outputs": [
    {
     "data": {
      "text/plain": [
       "<matplotlib.collections.PathCollection at 0x12e349190>"
      ]
     },
     "execution_count": 101,
     "metadata": {},
     "output_type": "execute_result"
    },
    {
     "data": {
      "image/png": "[encoded data removed]",
      "text/plain": [
       "<matplotlib.figure.Figure at 0x12e243610>"
      ]
     },
     "metadata": {},
     "output_type": "display_data"
    }
   ],
   "source": [
    "# cv2.projectPoints(objectPoints, rvec, tvec, cameraMatrix, distCoeffs[, imagePoints[, jacobian[, aspectRatio]]])\n",
    "\n",
    "imagePoints, Jacobian = cv2.projectPoints(mesh.v, U.rt.r, U.t.r, U.camera_mtx, U.k.r)\n",
    "\n",
    "plt.scatter(imagePoints[:,0,0],imagePoints[:,0,1])"
   ]
  },
  {
   "cell_type": "code",
   "execution_count": 112,
   "metadata": {},
   "outputs": [
    {
     "data": {
      "text/plain": [
       "array([[[ 364.08742211,  458.6235996 ]],\n",
       "\n",
       "       [[ 346.28885204,  420.02468568]],\n",
       "\n",
       "       [[ 367.90214923,  417.86771948]],\n",
       "\n",
       "       ..., \n",
       "       [[ 826.9936563 ,  317.56864249]],\n",
       "\n",
       "       [[ 824.24418169,  333.41121454]],\n",
       "\n",
       "       [[ 823.88321715,  314.8104699 ]]])"
      ]
     },
     "execution_count": 112,
     "metadata": {},
     "output_type": "execute_result"
    }
   ],
   "source": [
    "imagePoints"
   ]
  },
  {
   "cell_type": "code",
   "execution_count": 102,
   "metadata": {},
   "outputs": [
    {
     "data": {
      "text/plain": [
       "array([ 0. ,  0. ,  2.6])"
      ]
     },
     "execution_count": 102,
     "metadata": {},
     "output_type": "execute_result"
    }
   ],
   "source": [
    "U.t.r"
   ]
  },
  {
   "cell_type": "code",
   "execution_count": 83,
   "metadata": {},
   "outputs": [],
   "source": [
    "rot_matrix = cv2.Rodrigues(U.rt.r)[0]"
   ]
  },
  {
   "cell_type": "code",
   "execution_count": 106,
   "metadata": {},
   "outputs": [
    {
     "data": {
      "text/plain": [
       "array([ 364.08742211,  458.6235996 ])"
      ]
     },
     "execution_count": 106,
     "metadata": {},
     "output_type": "execute_result"
    }
   ],
   "source": [
    "imagePoints[0,0,:]"
   ]
  },
  {
   "cell_type": "code",
   "execution_count": null,
   "metadata": {},
   "outputs": [],
   "source": []
  },
  {
   "cell_type": "code",
   "execution_count": 107,
   "metadata": {},
   "outputs": [
    {
     "data": {
      "text/plain": [
       "array([  3.16789611e+03,   6.20692465e+02,  -1.59367960e+00])"
      ]
     },
     "execution_count": 107,
     "metadata": {},
     "output_type": "execute_result"
    }
   ],
   "source": [
    "np.dot(np.dot(U.camera_mtx, rot_matrix), U.t.r + mesh.v[0,:])"
   ]
  },
  {
   "cell_type": "code",
   "execution_count": 111,
   "metadata": {},
   "outputs": [
    {
     "data": {
      "text/plain": [
       "array([ -2.66744364e+02,   1.54295422e+00,   2.37932796e-01])"
      ]
     },
     "execution_count": 111,
     "metadata": {},
     "output_type": "execute_result"
    }
   ],
   "source": [
    "U.camera_mtx.dot(rot_matrix).dot(mesh.v[0,:])"
   ]
  },
  {
   "cell_type": "code",
   "execution_count": 122,
   "metadata": {},
   "outputs": [
    {
     "data": {
      "text/plain": [
       "array([[ 0.74262977,  0.02322123,  0.66929949],\n",
       "       [-0.18298798, -0.95433222,  0.23614703],\n",
       "       [ 0.64421769, -0.29784358, -0.70446631]])"
      ]
     },
     "execution_count": 122,
     "metadata": {},
     "output_type": "execute_result"
    }
   ],
   "source": [
    "angles_to_matrix(rotation)"
   ]
  },
  {
   "cell_type": "code",
   "execution_count": null,
   "metadata": {},
   "outputs": [],
   "source": []
  }
 ],
 "metadata": {
  "kernelspec": {
   "display_name": "Python 2",
   "language": "python",
   "name": "python2"
  },
  "language_info": {
   "codemirror_mode": {
    "name": "ipython",
    "version": 2
   },
   "file_extension": ".py",
   "mimetype": "text/x-python",
   "name": "python",
   "nbconvert_exporter": "python",
   "pygments_lexer": "ipython2",
   "version": "2.7.14"
  }
 },
 "nbformat": 4,
 "nbformat_minor": 2
}
