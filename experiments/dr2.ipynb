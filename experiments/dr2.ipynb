{
 "cells": [
  {
   "cell_type": "code",
   "execution_count": 68,
   "metadata": {},
   "outputs": [],
   "source": [
    "import tensorflow as tf\n",
    "import numpy as np\n",
    "import matplotlib.pyplot as plt\n",
    "import scipy\n",
    "\n",
    "from src import inception_v3_imagenet\n",
    "from src import imagenet_labels\n",
    "from src import utils\n",
    "from src.diff_renderer import make_render_op"
   ]
  },
  {
   "cell_type": "code",
   "execution_count": 69,
   "metadata": {},
   "outputs": [],
   "source": [
    "from src.utils import angles_to_matrix"
   ]
  },
  {
   "cell_type": "code",
   "execution_count": 70,
   "metadata": {},
   "outputs": [],
   "source": [
    "%matplotlib inline"
   ]
  },
  {
   "cell_type": "code",
   "execution_count": 71,
   "metadata": {},
   "outputs": [],
   "source": [
    "width, height = 1000, 1000\n",
    "mesh = utils.load_obj('resources/dog.obj')\n",
    "original_texture = mesh.texture_image.copy()\n",
    "render_op = make_render_op(mesh, width, height)"
   ]
  },
  {
   "cell_type": "code",
   "execution_count": 72,
   "metadata": {},
   "outputs": [],
   "source": [
    "trans = [0, 0, 2.6]\n",
    "rotation = [0.4, np.pi+.7, 2.9]\n",
    "fscale = 0.4\n",
    "bgcolor = [0.9, 0.9, 0.9]\n",
    "texture_image = mesh.texture_image"
   ]
  },
  {
   "cell_type": "code",
   "execution_count": 73,
   "metadata": {},
   "outputs": [
    {
     "data": {
      "text/plain": [
       "array([[ 0.74262977,  0.02322123,  0.66929949,  0.        ],\n",
       "       [-0.18298798, -0.95433222,  0.23614703,  0.        ],\n",
       "       [ 0.64421769, -0.29784358, -0.70446631,  2.6       ]])"
      ]
     },
     "execution_count": 73,
     "metadata": {},
     "output_type": "execute_result"
    }
   ],
   "source": [
    "view_matrix = np.hstack((angles_to_matrix(rotation) , np.reshape(trans, (3, 1)) )) \n",
    "view_matrix"
   ]
  },
  {
   "cell_type": "code",
   "execution_count": 88,
   "metadata": {},
   "outputs": [
    {
     "data": {
      "text/plain": [
       "array([[ 0.74262977,  0.02322123,  0.66929949,  0.        ],\n",
       "       [-0.18298798, -0.95433222,  0.23614703,  0.        ],\n",
       "       [ 0.64421769, -0.29784358, -0.70446631,  2.6       ],\n",
       "       [ 0.        ,  0.        ,  0.        ,  1.        ]])"
      ]
     },
     "execution_count": 88,
     "metadata": {},
     "output_type": "execute_result"
    }
   ],
   "source": [
    "np.vstack((view_matrix, np.array([0, 0, 0, 1])))"
   ]
  },
  {
   "cell_type": "code",
   "execution_count": 15,
   "metadata": {},
   "outputs": [
    {
     "data": {
      "text/plain": [
       "array([[  2.50000000e+03,   0.00000000e+00,   5.00000000e+02],\n",
       "       [  0.00000000e+00,   2.50000000e+03,   5.00000000e+02],\n",
       "       [  0.00000000e+00,   0.00000000e+00,   1.00000000e+00]])"
      ]
     },
     "execution_count": 15,
     "metadata": {},
     "output_type": "execute_result"
    }
   ],
   "source": [
    "# f = focal length, fx and fy should be the same\n",
    "fmat = [float(width) / float(fscale), float(width) / float(fscale)]\n",
    "\n",
    "# c = center of screen, should be [w/2, h/2]\n",
    "C = [width/2.,height/2.]\n",
    "\n",
    "camera_matrix = np.array([[fmat[0], 0, C[0]],[0., fmat[1], C[1]],[0.,0.,1.]], dtype=np.float64)\n",
    "camera_matrix"
   ]
  },
  {
   "cell_type": "code",
   "execution_count": 10,
   "metadata": {},
   "outputs": [
    {
     "data": {
      "text/plain": [
       "array([[ 0. ],\n",
       "       [ 0. ],\n",
       "       [ 2.6]])"
      ]
     },
     "execution_count": 10,
     "metadata": {},
     "output_type": "execute_result"
    }
   ],
   "source": [
    "np.reshape(trans, (3, 1))"
   ]
  },
  {
   "cell_type": "code",
   "execution_count": null,
   "metadata": {},
   "outputs": [],
   "source": [
    "U.view_mtx"
   ]
  },
  {
   "cell_type": "code",
   "execution_count": 18,
   "metadata": {},
   "outputs": [
    {
     "data": {
      "text/plain": [
       "array([ 364.08742211,  458.6235996 ,    1.        ])"
      ]
     },
     "execution_count": 18,
     "metadata": {},
     "output_type": "execute_result"
    }
   ],
   "source": [
    "# concat the rotation/rodriguez matrix  with the translation matrix\n",
    "# https://docs.opencv.org/2.4.13.4/modules/calib3d/doc/camera_calibration_and_3d_reconstruction.html\n",
    "\n",
    "abnormal = camera_matrix.dot(view_matrix).dot(np.hstack((mesh.v[0,:], 1)))\n",
    "abnormal / abnormal[2]"
   ]
  },
  {
   "cell_type": "code",
   "execution_count": 20,
   "metadata": {},
   "outputs": [
    {
     "data": {
      "text/plain": [
       "array([[  2.50000000e+03,   0.00000000e+00,   5.00000000e+02],\n",
       "       [  0.00000000e+00,   2.50000000e+03,   5.00000000e+02],\n",
       "       [  0.00000000e+00,   0.00000000e+00,   1.00000000e+00]])"
      ]
     },
     "execution_count": 20,
     "metadata": {},
     "output_type": "execute_result"
    }
   ],
   "source": []
  },
  {
   "cell_type": "code",
   "execution_count": 25,
   "metadata": {},
   "outputs": [
    {
     "data": {
      "text/plain": [
       "(1338, 3)"
      ]
     },
     "execution_count": 25,
     "metadata": {},
     "output_type": "execute_result"
    }
   ],
   "source": [
    "mesh.v.shape"
   ]
  },
  {
   "cell_type": "code",
   "execution_count": 28,
   "metadata": {},
   "outputs": [
    {
     "data": {
      "text/plain": [
       "array([[ 0.04729923, -0.02962504, -0.28196972,  1.        ],\n",
       "       [ 0.03527478,  0.01396127, -0.29956182,  1.        ],\n",
       "       [ 0.06153678,  0.01350783, -0.29312388,  1.        ],\n",
       "       ..., \n",
       "       [ 0.04403177,  0.2615302 ,  0.38719011,  1.        ],\n",
       "       [ 0.03651725,  0.24862289,  0.39145738,  1.        ],\n",
       "       [ 0.03867221,  0.26496691,  0.38782987,  1.        ]])"
      ]
     },
     "execution_count": 28,
     "metadata": {},
     "output_type": "execute_result"
    }
   ],
   "source": [
    "homo_v = np.hstack((mesh.v, np.ones((mesh.v.shape[0], 1) )))\n",
    "homo_v"
   ]
  },
  {
   "cell_type": "code",
   "execution_count": 37,
   "metadata": {},
   "outputs": [],
   "source": [
    "def unhomo(x):\n",
    "    return x / x[2]"
   ]
  },
  {
   "cell_type": "code",
   "execution_count": 38,
   "metadata": {},
   "outputs": [
    {
     "data": {
      "text/plain": [
       "array([ 364.08742211,  458.6235996 ,    1.        ])"
      ]
     },
     "execution_count": 38,
     "metadata": {},
     "output_type": "execute_result"
    }
   ],
   "source": [
    "proj_matrix = camera_matrix.dot(view_matrix)\n",
    "\n",
    "unhomo(proj_matrix.dot(homo_v[0,:]))"
   ]
  },
  {
   "cell_type": "code",
   "execution_count": 39,
   "metadata": {},
   "outputs": [
    {
     "data": {
      "text/plain": [
       "(1338, 4)"
      ]
     },
     "execution_count": 39,
     "metadata": {},
     "output_type": "execute_result"
    }
   ],
   "source": [
    "homo_v.shape"
   ]
  },
  {
   "cell_type": "code",
   "execution_count": 46,
   "metadata": {},
   "outputs": [
    {
     "data": {
      "text/plain": [
       "array([[[ 0.04729923, -0.02962504, -0.28196972,  1.        ]],\n",
       "\n",
       "       [[ 0.03527478,  0.01396127, -0.29956182,  1.        ]],\n",
       "\n",
       "       [[ 0.06153678,  0.01350783, -0.29312388,  1.        ]],\n",
       "\n",
       "       ..., \n",
       "       [[ 0.04403177,  0.2615302 ,  0.38719011,  1.        ]],\n",
       "\n",
       "       [[ 0.03651725,  0.24862289,  0.39145738,  1.        ]],\n",
       "\n",
       "       [[ 0.03867221,  0.26496691,  0.38782987,  1.        ]]])"
      ]
     },
     "execution_count": 46,
     "metadata": {},
     "output_type": "execute_result"
    }
   ],
   "source": [
    "homo_v.reshape((-1, 1, 4))"
   ]
  },
  {
   "cell_type": "code",
   "execution_count": 76,
   "metadata": {},
   "outputs": [
    {
     "data": {
      "text/plain": [
       "array([[ 364.08742211,  458.6235996 ],\n",
       "       [ 346.28885204,  420.02468568],\n",
       "       [ 367.90214923,  417.86771948],\n",
       "       ..., \n",
       "       [ 826.9936563 ,  317.56864249],\n",
       "       [ 824.24418169,  333.41121454],\n",
       "       [ 823.88321715,  314.8104699 ]])"
      ]
     },
     "execution_count": 76,
     "metadata": {},
     "output_type": "execute_result"
    }
   ],
   "source": [
    "abnormal = proj_matrix.dot(homo_v.reshape((-1, 4, 1)))[:, :, 0]\n",
    "XY = (abnormal[0:2,:] / abnormal[2,:]).T\n",
    "XY"
   ]
  },
  {
   "cell_type": "code",
   "execution_count": 77,
   "metadata": {},
   "outputs": [
    {
     "data": {
      "text/plain": [
       "<matplotlib.collections.PathCollection at 0x12ececbd0>"
      ]
     },
     "execution_count": 77,
     "metadata": {},
     "output_type": "execute_result"
    },
    {
     "data": {
      "image/png": "[encoded data removed]",
      "text/plain": [
       "<matplotlib.figure.Figure at 0x12bb8e0d0>"
      ]
     },
     "metadata": {},
     "output_type": "display_data"
    }
   ],
   "source": [
    "plt.scatter(XY[:,0], XY[:, 1])"
   ]
  },
  {
   "cell_type": "code",
   "execution_count": 87,
   "metadata": {},
   "outputs": [
    {
     "data": {
      "text/plain": [
       "array([[ -22.7367874 , -215.0474512 ,    2.31803028],\n",
       "       [ -61.59396297, -114.87774813,    2.30043818],\n",
       "       [   7.28000332, -112.79237582,    2.30687612],\n",
       "       ..., \n",
       "       [ 303.67448663,  847.42056112,    2.98719011],\n",
       "       [ 287.02181223,  817.28592104,    2.99145738],\n",
       "       [ 290.59545348,  856.33221676,    2.98782987]])"
      ]
     },
     "execution_count": 87,
     "metadata": {},
     "output_type": "execute_result"
    }
   ],
   "source": [
    "camera_matrix.dot(mesh.v.reshape((-1, 3, 1)))[:, :, 0].T + trans"
   ]
  },
  {
   "cell_type": "code",
   "execution_count": 83,
   "metadata": {},
   "outputs": [
    {
     "data": {
      "text/plain": [
       "[0, 0, 2.6]"
      ]
     },
     "execution_count": 83,
     "metadata": {},
     "output_type": "execute_result"
    }
   ],
   "source": []
  },
  {
   "cell_type": "code",
   "execution_count": null,
   "metadata": {},
   "outputs": [],
   "source": []
  }
 ],
 "metadata": {
  "kernelspec": {
   "display_name": "Python 2",
   "language": "python",
   "name": "python2"
  },
  "language_info": {
   "codemirror_mode": {
    "name": "ipython",
    "version": 2
   },
   "file_extension": ".py",
   "mimetype": "text/x-python",
   "name": "python",
   "nbconvert_exporter": "python",
   "pygments_lexer": "ipython2",
   "version": "2.7.14"
  }
 },
 "nbformat": 4,
 "nbformat_minor": 2
}
